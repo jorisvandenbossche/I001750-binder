{
 "cells": [
  {
   "cell_type": "markdown",
   "metadata": {},
   "source": [
    "# Statistical Methods for Quality Control\n",
    "#### <font color='gray'>by ir. Steffie Van Nieuland and ir. Marlies De Clercq, with special thanks to ir. Michiel Stock and dr. ir. Jan Verwaeren</font>"
   ]
  },
  {
   "cell_type": "markdown",
   "metadata": {},
   "source": [
    "The practical exercises of 'Sampling techniques' will be given in two 'practical sessions'. In these sessions, the students will learn how to deal with some typical 'sampling design'-questions. The mathematical calculations needed to answer these questions will be made in the R software package (available in this notebook). Since no prior knowledge of R is required, a small introduction to the software package will be given by means of a demo. "
   ]
  },
  {
   "cell_type": "markdown",
   "metadata": {},
   "source": [
    "# Acceptance Sampling"
   ]
  },
  {
   "cell_type": "markdown",
   "metadata": {},
   "source": [
    "## Introduction to R"
   ]
  },
  {
   "cell_type": "markdown",
   "metadata": {},
   "source": [
    "For this course, we will use this notebook where the R language is allowed. Code can be typed into the corresponding fields and can be executed by clicking \\`*shift+enter*'."
   ]
  },
  {
   "cell_type": "markdown",
   "metadata": {},
   "source": [
    "### Some basic commands"
   ]
  },
  {
   "cell_type": "markdown",
   "metadata": {},
   "source": [
    "R uses objects to store it's information in. These objects can be simple mathematical variables as well as more complicated data-structures or 'containers' of variables. As an example consider the following code fragment:"
   ]
  },
  {
   "cell_type": "code",
   "execution_count": null,
   "metadata": {
    "collapsed": false
   },
   "outputs": [],
   "source": [
    "X <- c(1, 6.3, 4, 10.1, 9)             # create a vector\n",
    "Y <- c(10, 65.1, 39, 96.4, 94)\n",
    "a <- X[1]+Y[2]                         # select a value within a vector + summation \n",
    "a                                      # print the value to the screen \n",
    "Z <- cbind(X, Y)                       # combine two vectors into a matrix: column wise\n",
    "Z\n"
   ]
  },
  {
   "cell_type": "markdown",
   "metadata": {},
   "source": [
    "This code fragment does the following: Line (1), create a new data-object *X* and assign a vector to it with values: 1, 6.3, .... Line (2), does the same with *Y*. Line (3), takes the first element of vector *X* and the second element of the vector *Y* and adds them and puts the result in a new data-object, called *a*. Line (5), combine vectors *X* and *Y* to create a matrix with two columns and five rows and assign this matrix to the data-object *Z*. Line (6), just look at *Z*.\n",
    "\n",
    "In the previous code fragment, some artificial data was created. Now, we will try to access and use this data and do some analysis.\n"
   ]
  },
  {
   "cell_type": "code",
   "execution_count": null,
   "metadata": {
    "collapsed": false
   },
   "outputs": [],
   "source": [
    "Xbis <- Z[,1]                          # select one column of a matrix\n",
    "sequence <- Z[3:5,2]                    \n",
    "sequence                                  \n",
    "Z <- as.data.frame(Z)\n",
    "colnames(Z)\n",
    "colnames(Z) <- c(\"Xcoordinate\",\"Ycoordinate\")\n",
    "plot(Z$Xcoordinate,Z$Ycoordinate)\n",
    "summary(Z)"
   ]
  },
  {
   "cell_type": "markdown",
   "metadata": {},
   "source": [
    "Line (1), takes all elements from the first column in Z and assigns them to the data-object Xbis. Line (2), takes the elements from row 3 to 5 from the second column in Z and assigns them to 'sequence'. R has 2 main object-types: data frames and matrices. Line (4), converts a matrix into a data frame. Line (5), gets the column names of Z. Line (6), assigns new names to the columns of Z. Line (7), plots the points in Z in an X,Y-plane. Line (7), gets some summarizing information from Z. "
   ]
  },
  {
   "cell_type": "markdown",
   "metadata": {},
   "source": [
    "#### Functions: e.g. linear regression"
   ]
  },
  {
   "cell_type": "markdown",
   "metadata": {},
   "source": [
    "Finally we introduce the use of functions. R has a large number of (internally) implemented functionalities. These functionalities can be accessed by the use of 'functions'. A function is used by typing its name, followed by (between braces) the arguments this functions needs. As an example we can use the **plot** function on line (7) of the previous code fragment, its arguments are the x- and y-coordinates of the points to be visualized. A somewhat nicer plot can also be made: *plot(Z\\$Xcoordinate, Z\\$Ycoordinate, main = \"Nice R plot\", xlab=\"X axis\", ylab=\"Y axis\", pch=4, col=3)*. Besides plotting tools, numerous (often statistical) functions are available. As an example we will perform a linear regression using the data in Z.\n",
    "\n",
    "Linear regression is implemented through the **lm**-function. When using a function (for the first time), it can be interesting to take a look at its documentation file. The following line calls the documentation file of the **lm**-function."
   ]
  },
  {
   "cell_type": "code",
   "execution_count": null,
   "metadata": {
    "collapsed": false
   },
   "outputs": [],
   "source": [
    "help(lm)"
   ]
  },
  {
   "cell_type": "code",
   "execution_count": null,
   "metadata": {
    "collapsed": false
   },
   "outputs": [],
   "source": [
    "Z.LinRegr <- lm(Ycoordinate~Xcoordinate, data=Z)\n",
    "summary(Z.LinRegr)\n",
    "names(Z.LinRegr)\n",
    "Z.LinRegr$coefficients"
   ]
  },
  {
   "cell_type": "markdown",
   "metadata": {},
   "source": [
    "##### Task 1: Comment the code fragment above"
   ]
  },
  {
   "cell_type": "markdown",
   "metadata": {},
   "source": [
    "#### Loops"
   ]
  },
  {
   "cell_type": "markdown",
   "metadata": {},
   "source": [
    "As in any scripting language, it is possible to write loops in R. For this course we will only need the **for**-loop. As an illustration, consider the following code fragment to build a data-object which contains 2 rows of numbers, the first row contains a sequence of numbers ranging from 1 to 100 and the second row contains the square root of these numbers."
   ]
  },
  {
   "cell_type": "code",
   "execution_count": null,
   "metadata": {
    "collapsed": false
   },
   "outputs": [],
   "source": [
    "MyMatrix.numbers <- seq(1, 100, by=1)    # Create a vector filled with number going from 1 to 100, by steps of 1: 1,2,3,...,100\n",
    "MyMatrix.sqroot <- rep(0, times=100)     # Create a vector filled with 100 times 0: 0,0,0,...,0\n",
    "for (i in 1:100)\n",
    "{\n",
    "    MyMatrix.sqroot[i] <- sqrt(MyMatrix.numbers[i])    # Fill a vector element per element\n",
    "}\n",
    "plot(MyMatrix.numbers,MyMatrix.sqroot)"
   ]
  },
  {
   "cell_type": "markdown",
   "metadata": {},
   "source": [
    "Line (1), initialize the data object *MyMatrix.numbers* to be a sequence of numbers ranging from 1 to 100, with a step size of 1. On line (2), the *MyMatrix.sqroot* object is initialised to contain a sequence of 100 zeros. In lines (3-6) the square root of the numbers in *MyMatrix.numbers* is calculated and the result is stored in *MyMatrix.sqroot*. On line (7), both of them are plotted and as a result we get the graph of the function $f(x)=\\sqrt{x}$.\n"
   ]
  },
  {
   "cell_type": "markdown",
   "metadata": {},
   "source": [
    "#### The binomial distribution"
   ]
  },
  {
   "cell_type": "markdown",
   "metadata": {},
   "source": [
    "**Definition 1.** *The binomial distribution is a discrete probability distribution that models\n",
    "the number of successes in a sequence of n independent Bernoulli experiments, each of\n",
    "which yields success with probability p. The probability mass function (PMF) $P_x$ of a binomially distributed random variable X, with parameters n (number of trials) and p (succes\n",
    "probability) is given by:\n",
    "\n",
    "$$\n",
    "P_X(i)={n \\choose i} p^i (1-p)^{n-i}, \\qquad i=0, \\ldots, n\\,, \n",
    "$$\n",
    "\n",
    "where $P_x(i)$ denotes the probability that $X$ takes the value $i$ (denoted $P(X = i)$).*\n",
    "\n",
    "The binomial distribution is implemented in R. For its use, consider the following code fragment:"
   ]
  },
  {
   "cell_type": "code",
   "execution_count": null,
   "metadata": {
    "collapsed": false
   },
   "outputs": [],
   "source": [
    "dbinom(2, 5, prob=0.3) #P(X=k): n=5, k=2, P(succes)=0.3 -> chance that two sample are positive when examening 5 samples in total\n",
    "pbinom(2, 5, prob=0.3) #P(X<=k) -> change that max. 2 samples are positieve when examening 5 samples in total"
   ]
  },
  {
   "cell_type": "markdown",
   "metadata": {},
   "source": [
    "- the *dbinom(i,n,prob=p)* function calculates the the probability that, in a sequence of length *n* , you will observe exactly *i* successes if the individual success probability is *p* (PMF: $P(X=i)$).\n",
    "- the *pbinom(i,n,prob=p)* function calculates the probability of observing *i* OR LESS successes in a sequence of length *n* (CDF: $P(X\\leq i)$)."
   ]
  },
  {
   "cell_type": "markdown",
   "metadata": {},
   "source": [
    "*An example*: Prof. T. likes tossing coins. From experience, he knows that the probability that one toss with his favorite coin results in a *heads* is $0.3$. Prof. T. tosses his coin 5 times, what is the probability that exactly 2 out of 5 tosses result in heads.\n",
    "\n",
    "*Solution*: Let $X$ be the random variable that represents number of times a toss results in heads ($p=0.3$, $n=5$). We need to compute $P(X=2)$.  All possible sequences of 2 heads and 3 tails are given below:\n",
    "\n",
    "1. HHTTT\n",
    "2. HTHTT\n",
    "3. HTTHT\n",
    "4. HTTTH\n",
    "5. THHTT\n",
    "6. THTHT\n",
    "7. THTTH\n",
    "8. TTHHT\n",
    "9. TTHTH\n",
    "10. TTTHH\n",
    "\n",
    "The probability of observing each of these sequences is $0.3^2 \\times 0.7^3$. Since there are 10 such sequences, the total probability is $10 \\times 0.3^2 \\times 0.7^3=0.3087$. If we want to calculate this probability by using the formula above, we have:\n",
    "\n",
    "$$\n",
    "P_X(i)={5 \\choose 2} 0.3^2 (1-0.3)^{5-2} = 0.3087 \\,.\n",
    "$$"
   ]
  },
  {
   "cell_type": "markdown",
   "metadata": {},
   "source": [
    "#### Building OC-curves"
   ]
  },
  {
   "cell_type": "markdown",
   "metadata": {},
   "source": [
    "Consider the simple attribute sampling scheme: *B = (n, a)*. From the OC-Curve of such\n",
    "a sampling scheme we can retrieve a lot of information about this sampling scheme. For\n",
    "a given sampling scheme and a range of values for *p* (the probability that a random item\n",
    "in a batch is defective), the OC-Curve gives the probability that an entire batch of items\n",
    "is accepted, when applying the given scheme.\n",
    "Two different interpretations can be given to this value for *p* (as explained in the course\n",
    "notes):\n",
    "\n",
    "- Batch interpretation\n",
    "- Population interpretation\n",
    "\n",
    "If the population interpretation is considered, we can use the Binomial distribution to\n",
    "obtain the OC-Curve.\n",
    "\n",
    "1. Choose a range for *p* and a step size.\n",
    "2. For each value for *p* in this range, calculate the probability $\\beta$ of accepting a batch: The probability that a batch is accepted equals the probability that, in a sample of size *n*, the number of defectives found is less than or equal to *a*.\n",
    "3. Make a scatter plot of *p* versus $\\beta$."
   ]
  },
  {
   "cell_type": "markdown",
   "metadata": {},
   "source": [
    "### Task 2 (Without using the preprogrammed functions!!)"
   ]
  },
  {
   "cell_type": "markdown",
   "metadata": {},
   "source": [
    "- Write a script to draw the OC-Curve of the following simple sampling design: B =\n",
    "(20, 2)."
   ]
  },
  {
   "cell_type": "code",
   "execution_count": null,
   "metadata": {
    "clear_cell": true,
    "collapsed": true
   },
   "outputs": [],
   "source": []
  },
  {
   "cell_type": "code",
   "execution_count": null,
   "metadata": {
    "clear_cell": true,
    "collapsed": false
   },
   "outputs": [],
   "source": []
  },
  {
   "cell_type": "code",
   "execution_count": null,
   "metadata": {
    "clear_cell": true,
    "collapsed": false
   },
   "outputs": [],
   "source": []
  },
  {
   "cell_type": "code",
   "execution_count": null,
   "metadata": {
    "clear_cell": true,
    "collapsed": false
   },
   "outputs": [],
   "source": []
  },
  {
   "cell_type": "markdown",
   "metadata": {},
   "source": [
    "- Write a piece of code to draw the OC-curve of the following double attributive sampling design: B = (50, 1, 3) + (50, 4)\n",
    "- What is the AQL for this scheme?"
   ]
  },
  {
   "cell_type": "code",
   "execution_count": null,
   "metadata": {
    "clear_cell": true,
    "collapsed": true
   },
   "outputs": [],
   "source": []
  },
  {
   "cell_type": "code",
   "execution_count": null,
   "metadata": {
    "clear_cell": true,
    "collapsed": true
   },
   "outputs": [],
   "source": []
  },
  {
   "cell_type": "code",
   "execution_count": null,
   "metadata": {
    "clear_cell": true,
    "collapsed": false
   },
   "outputs": [],
   "source": []
  },
  {
   "cell_type": "code",
   "execution_count": null,
   "metadata": {
    "clear_cell": true,
    "collapsed": false
   },
   "outputs": [],
   "source": []
  },
  {
   "cell_type": "markdown",
   "metadata": {
    "clear_cell": false
   },
   "source": [
    "## Preprogrammed functions \n",
    "##### Info: notes: chapter 2: page 13"
   ]
  },
  {
   "cell_type": "markdown",
   "metadata": {},
   "source": [
    "The focus will be on interpreting OC-curves. Because of that, some R-functions are provided, which can be used to obtain the needed OC-curves on a simple and fast manner. The functionalities we need in the following exercises are implemented in the script 'functies.R'. To load these functions into the system: run the cell below.\n",
    "\n",
    "A brief explanation for all functions implemented in this\n",
    "script is given in Chapter 2."
   ]
  },
  {
   "cell_type": "code",
   "execution_count": null,
   "metadata": {
    "collapsed": false
   },
   "outputs": [],
   "source": [
    "source('functies.R') #run to load the functions into the system"
   ]
  },
  {
   "cell_type": "markdown",
   "metadata": {},
   "source": [
    "### Example"
   ]
  },
  {
   "cell_type": "code",
   "execution_count": null,
   "metadata": {
    "collapsed": false
   },
   "outputs": [],
   "source": [
    "OC1 <- OC(N=800, n=10, a=0, p.max=0.30, step=0.01, type=\"both\")\n",
    "OC1\n",
    "colnames(OC1)\n",
    "OC1[,2][OC1[,1]==0.2] \n",
    "OC1[,3][OC1[,1]==0.2]  "
   ]
  },
  {
   "cell_type": "markdown",
   "metadata": {
    "collapsed": true
   },
   "source": [
    "Line (1), calculate the OC-Curve for a sampling scheme B=(10,0) for both, lot and population interpretation and stores the results in a new data-object *OC1*. The number of observations in a batch is 800. Line (2), just look at *OC1*. It has 3 colums. The first one contains all considered $p$-values, the second one contains the corresponding acceptance rates $\\beta$ in case of the population interpretation and the third one contains the correspoding acceptance rates $\\beta$ in case of the batch-interpretation. Line(4), select the $\\beta$ corresponding to $p$=0.2 in case of a population interpretation.  Line(5), select the $\\beta$ corresponding to $p$=0.2 in case of a batch interpretation."
   ]
  },
  {
   "cell_type": "markdown",
   "metadata": {},
   "source": [
    "## Exercise 1"
   ]
  },
  {
   "cell_type": "markdown",
   "metadata": {},
   "source": [
    "#### First try to plot the graph without using the preprogrammed functions, check your result using one of the functions"
   ]
  },
  {
   "cell_type": "markdown",
   "metadata": {},
   "source": [
    "A producer of beef would like to inspect on the microbial quality of 40 kg (one batch) of his\n",
    "products. In order to accomplish this, observations of 25g each are taken. The producer\n",
    "proposes the following simple attributive sampling scheme: B = (50, 1) (for parts 4-5, the\n",
    "rectifying version of this plan is used)\n",
    "\n",
    "1. Calculate the OC-graph of this sampling scheme.\n",
    "2. What are the odds that a batch with 0.2kg meat of unacceptable quality gets through a health inspection (which uses the same sampling scheme)\n",
    "3. What are the AQL (0.007) and the LTPD (0.076) of this sampling scheme?\n",
    "4. What is the AOQ for an ingoing quality of 1% (0.009)?\n",
    "5. What kind of quality guarantee can be given based on a rectifying sampling scheme with this design?"
   ]
  },
  {
   "cell_type": "code",
   "execution_count": null,
   "metadata": {
    "clear_cell": true,
    "collapsed": false
   },
   "outputs": [],
   "source": []
  },
  {
   "cell_type": "code",
   "execution_count": null,
   "metadata": {
    "clear_cell": true,
    "collapsed": false
   },
   "outputs": [],
   "source": []
  },
  {
   "cell_type": "code",
   "execution_count": null,
   "metadata": {
    "clear_cell": true,
    "collapsed": false
   },
   "outputs": [],
   "source": []
  },
  {
   "cell_type": "code",
   "execution_count": null,
   "metadata": {
    "clear_cell": true,
    "collapsed": false
   },
   "outputs": [],
   "source": []
  },
  {
   "cell_type": "code",
   "execution_count": null,
   "metadata": {
    "clear_cell": true,
    "collapsed": false
   },
   "outputs": [],
   "source": []
  },
  {
   "cell_type": "markdown",
   "metadata": {},
   "source": [
    "## Exercise 2"
   ]
  },
  {
   "cell_type": "markdown",
   "metadata": {},
   "source": [
    "Comment the following *clever* plan:\n",
    "An inspector of the Food Agency knows that two simple sampling designs (B = (56, 0) and\n",
    "B = (95, 1)) have the same LTPD of 4% (verify this). For economical reasons, he choses\n",
    "the first plan. However, when in the 56 observations, he finds exactly one defective, 39\n",
    "extra observations are taken. If he cannot find any defectives in the 39 extra observations,\n",
    "the batch is still accepted. The reasoning behind this is that in the B = (95, 1) design,\n",
    "one defective can be allowed. Is this act legitimate?"
   ]
  },
  {
   "cell_type": "code",
   "execution_count": null,
   "metadata": {
    "clear_cell": true,
    "collapsed": false,
    "scrolled": false
   },
   "outputs": [],
   "source": []
  },
  {
   "cell_type": "code",
   "execution_count": null,
   "metadata": {
    "clear_cell": true,
    "collapsed": false
   },
   "outputs": [],
   "source": []
  },
  {
   "cell_type": "code",
   "execution_count": null,
   "metadata": {
    "clear_cell": true,
    "collapsed": false
   },
   "outputs": [],
   "source": []
  },
  {
   "cell_type": "markdown",
   "metadata": {},
   "source": [
    "*Conclusion:*"
   ]
  },
  {
   "cell_type": "code",
   "execution_count": null,
   "metadata": {
    "clear_cell": true,
    "collapsed": true
   },
   "outputs": [],
   "source": []
  },
  {
   "cell_type": "markdown",
   "metadata": {},
   "source": [
    "## Exercise 4 (graph)"
   ]
  },
  {
   "cell_type": "markdown",
   "metadata": {},
   "source": [
    "#### Check your answer from the previous lecture"
   ]
  },
  {
   "cell_type": "markdown",
   "metadata": {},
   "source": [
    "The OC-curve of a simple attributive sampling scheme B1(100, 20) is given in Figure 1. Use this figure to make a sketch of the OC-curves of the following schemes and motivate (can be solved without calculations): B2(200, 40) and B3(100, 15)."
   ]
  },
  {
   "cell_type": "code",
   "execution_count": null,
   "metadata": {
    "clear_cell": true,
    "collapsed": false
   },
   "outputs": [],
   "source": []
  },
  {
   "cell_type": "markdown",
   "metadata": {},
   "source": [
    "## Exercise 7 (graph)"
   ]
  },
  {
   "cell_type": "markdown",
   "metadata": {
    "collapsed": true
   },
   "source": [
    "#### Check your answer from the previous lecture"
   ]
  },
  {
   "cell_type": "markdown",
   "metadata": {},
   "source": [
    "Consider the sampling designs below:\n",
    "\n",
    "- Ba=(30,0,2)+(10,2)\n",
    "- Bb=(10,0,2)+(30,2)\n",
    "\n",
    "The figure below contains the OC-curves of these designs. Link the curves to the correct designs. Motivate your choice. As a risk-analyst, someone might ask you what scheme is preferred from a consumers point of view. Can you answer this question based on the problem description at hand?"
   ]
  },
  {
   "cell_type": "code",
   "execution_count": null,
   "metadata": {
    "clear_cell": true,
    "collapsed": false
   },
   "outputs": [],
   "source": []
  },
  {
   "cell_type": "code",
   "execution_count": null,
   "metadata": {
    "clear_cell": true,
    "collapsed": true
   },
   "outputs": [],
   "source": []
  }
 ],
 "metadata": {
  "celltoolbar": "Nbtutor - export exercises",
  "kernelspec": {
   "display_name": "R",
   "language": "R",
   "name": "ir"
  },
  "language_info": {
   "codemirror_mode": "r",
   "file_extension": ".r",
   "mimetype": "text/x-r-source",
   "name": "R",
   "pygments_lexer": "r",
   "version": "3.2.1"
  }
 },
 "nbformat": 4,
 "nbformat_minor": 0
}